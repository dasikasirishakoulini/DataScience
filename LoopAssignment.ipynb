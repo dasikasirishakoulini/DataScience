{
 "cells": [
  {
   "cell_type": "code",
   "execution_count": null,
   "metadata": {},
   "outputs": [],
   "source": [
    "# W. A P. which takes one number from 0 to 9 from the user and prints\n",
    "# it in the word. And if the word is not from 0 to 9 then\n",
    "# it should print that number is outside of the range and program should\n",
    "# exit.\n",
    "\n",
    "\n",
    "a = int( input(\" Please enter the no. frm 1-9\")) \n",
    "if a==1:\n",
    "    print(\"ONE\")\n",
    "elif a==2:\n",
    "     print(\"TWO\")\n",
    "elif a==3:\n",
    "     print(\"THREE\")\n",
    "elif a==4:\n",
    "     print(\"Four\")\n",
    "elif a==5:\n",
    "     print(\"FIVE\")\n",
    "elif a==6:\n",
    "     print(\"SIX\")\n",
    "elif a==7:\n",
    "     print(\"SEVEN\")\n",
    "elif a==8:\n",
    "     print(\"EIGHT\")\n",
    "elif a==9:\n",
    "     print(\"Nine\")\n",
    "else:\n",
    "    print(\"No. is out of range\")"
   ]
  },
  {
   "cell_type": "code",
   "execution_count": null,
   "metadata": {},
   "outputs": [],
   "source": [
    "#  W. A P. to implement calculator but the operation to be done and two\n",
    "# numbers will be taken as input from user:-\n",
    "# Operation console should show below:-\n",
    "#  Please select any one operation from below:-\n",
    "#  * To add enter 1\n",
    "#  * to subtract enter 2\n",
    "#  * To multiply enter 3\n",
    "#  * To divide enter 4\n",
    "#  * To divide and find quotient enter 5\n",
    "#  * To divide and find remainder enter 6\n",
    "#  * To divide and find num1 to the power of num2 enter 7\n",
    "#  * To Come out of the program enter 8\n",
    "\n",
    "a = int( input(\" Please select any one operation from below:-To add enter 1,to subtract enter 2,To multiply enter 3,To divide enter 4,To divide and find quotient enter ,To divide and find remainder enter 6,To divide and find num1 to the power of num2 enter 7,To Come out of the program enter 8\"))\n",
    "               \n",
    "num1=int(input(\"enter number 1:\"))\n",
    "num2=int(input(\"enter number 2:\"))\n",
    "               \n",
    "if a==1:\n",
    "    print('sum is :', num1+num2)\n",
    "elif a==2:\n",
    "     print(\"difference is:\", num1-num2)\n",
    "elif a==3:\n",
    "     print(\" product is:\" ,num1*num2 )\n",
    "elif a==4:\n",
    "     print(\"division is:\", num1/num2)\n",
    "elif a==5:\n",
    "     print(\"quotient is:\", num1//num2)\n",
    "elif a==6:\n",
    "     print(\"reminder is:\", num1%num2)\n",
    "elif a==7:\n",
    "     print(\"power is:\" ,(num1/num2)**num2)\n",
    "elif a==8:\n",
    "     print(\"come out of program\")\n"
   ]
  },
  {
   "cell_type": "code",
   "execution_count": null,
   "metadata": {},
   "outputs": [],
   "source": [
    "# W A P to check whether a year entered by user is an leap year or not?\n",
    "# Check with below input:-\n",
    "#  leap year:- 2012, 1968, 2004, 1200, 1600,2400\n",
    "#  Non-lear year:- 1971, 2006, 1700,1800,1900\n",
    "\n",
    "leap_year = int(input(\" Enter the year: \"))\n",
    "\n",
    "if(leap_year%100 == 0):\n",
    "    if(leap_year%400 == 0):\n",
    "        print(f\"{leap_year} is a leap year\")\n",
    "    else:\n",
    "        print(f\"{leap_year} is not a leap year\")\n",
    "elif(leap_year%4==0):\n",
    "    print(f\"{leap_year} is a leap year\")\n",
    "else:\n",
    "    print(f\"{leap_year} is not a leap year\")"
   ]
  },
  {
   "cell_type": "code",
   "execution_count": null,
   "metadata": {},
   "outputs": [],
   "source": [
    "#  W A P which takes one number from the user and checks whether it is\n",
    "# an even or odd number?, If it even then prints number is\n",
    "# even number else prints that number is odd number.\n",
    "\n",
    "\n",
    "num = int(input('Enter a number: '))\n",
    "if num%2 == 0:\n",
    "    print('Even')\n",
    "else:\n",
    "    print('Odd')"
   ]
  },
  {
   "cell_type": "code",
   "execution_count": null,
   "metadata": {},
   "outputs": [],
   "source": [
    "# Q. W A P which takes two numbers from the user and prints below output:-\n",
    "#  1. num1 is greater than num2 if num1 is greater than num2\n",
    "#  2. num1 is smaller than num2 if num1 is smaller than num2\n",
    "#  3. num1 is equal to num2 if num1 and num2 are equal\n",
    "# Note:- 1. Do this problem using if - else\n",
    "#  2. Do this using ternary operator\n",
    "\n",
    "num1=int(input('Enter  number1:'))\n",
    "num2=int(input('Enter number2:'))\n",
    "\n",
    "if(num1>num2):\n",
    "      print('num1 is greater than num2')\n",
    "elif(num1<num2):\n",
    "      print('num1 is less than num2')\n",
    "elif(num1==num2):\n",
    "      print('num1 is equal to num2')\n",
    "        \n",
    "        "
   ]
  },
  {
   "cell_type": "code",
   "execution_count": null,
   "metadata": {},
   "outputs": [],
   "source": [
    "num1=int(input('Enter  number1:'))\n",
    "num2=int(input('Enter number2:'))\n",
    "num3=int(input('Enter number3:'))\n",
    "\n",
    "if(num1>num2 & num1>num3):\n",
    "      print('num1 is greater than num2 and num3')\n",
    "elif(num2<num1 & num2>num3):\n",
    "      print('num2 is greater than num1 and num3')\n",
    "elif(num3>num2 & num3>num1):\n",
    "      print('num3 is greater than num1 and num2')"
   ]
  },
  {
   "cell_type": "code",
   "execution_count": null,
   "metadata": {},
   "outputs": [],
   "source": [
    "# Q. Write a Python program to find the length of the my_str using loop:-\n",
    "# Input:- 'Write a Python program to find the length of the my_str'\n",
    "# Output:- 55\n",
    "\n",
    "# User inputs the string and it gets stored in variable str\n",
    "str = input(\"Enter a string: \")\n",
    "\n",
    "# i variable to count the character in a string\n",
    "i = 0\n",
    "for s in str:\n",
    "      i = i+1\n",
    "print(\"Length of the input string is:\", i)\n"
   ]
  },
  {
   "cell_type": "code",
   "execution_count": null,
   "metadata": {},
   "outputs": [],
   "source": [
    "# Q. Write a Python program to find the total number of times letter 'p'\n",
    "# is appeared in the below string using loop:-\n",
    "# Input:- 'peter piper picked a peck of pickled peppers.\\n'\n",
    "# Output:- 9\n",
    "test_str = \"peter piper picked a peck of pickled peppers.\\n\"\n",
    "  \n",
    "# using naive method to get count \n",
    "# counting e \n",
    "count = 0\n",
    "  \n",
    "for i in test_str:\n",
    "    if i == 'p':\n",
    "        count = count + 1\n",
    "  \n",
    "# printing result \n",
    "print (\"Count of p in peter piper picked a peck of pickled peppers.\\n is : \"\n",
    "                            +  str(count))\n",
    "    \n"
   ]
  },
  {
   "cell_type": "code",
   "execution_count": null,
   "metadata": {},
   "outputs": [],
   "source": [
    "# Q. Write a python program to find below output using loop:-\n",
    "# Input:- 'peter piper picked a peck of pickled peppers.'\n",
    "# Output:- ['peter', 'piper', 'picked', 'a', 'peck', 'of', 'pickled',\n",
    "# 'peppers']\n",
    "\n",
    "\n",
    "test_str = \"peter piper picked a peck of pickled peppers.\\n\"\n",
    "list=[]\n",
    "while test_str !='0':\n",
    "    print(f'List of Words ={test_str.split()}')\n",
    "\n",
    "    \n"
   ]
  },
  {
   "cell_type": "code",
   "execution_count": null,
   "metadata": {},
   "outputs": [],
   "source": [
    "# Q. Write a python program to find below output using loop:-\n",
    "# Input:- 'peter piper picked a peck of pickled peppers.'\n",
    "# Output:- 'peppers pickled of peck a picked piper peter'\n",
    "\n",
    "test_str='peter piper picked a peck of pickled peppers.'\n",
    "count=len(test_str)\n",
    "reverse_str=''\n",
    "while count>0:\n",
    "    reverse_str=test_str[::-1]\n",
    "    \n",
    "print(reverse_str)\n"
   ]
  },
  {
   "cell_type": "code",
   "execution_count": null,
   "metadata": {},
   "outputs": [],
   "source": [
    "# Q. Write a python program to find below output using loop:-\n",
    "# Input:- 'peter piper picked a peck of pickled peppers.'\n",
    "# Output:- '.sreppep delkcip fo kcep a dekcip repip retep'\n",
    "\n",
    "test_str='peter piper picked a peck of pickled peppers.'\n",
    "count=len(test_str)\n",
    "reverse_str=''\n",
    "while count>0:\n",
    "      reverse_str=reverse_str+test_str[count-1] \n",
    "      count = count-1\n",
    "        \n",
    "print(reverse_str)\n"
   ]
  },
  {
   "cell_type": "code",
   "execution_count": 23,
   "metadata": {},
   "outputs": [
    {
     "name": "stdout",
     "output_type": "stream",
     "text": [
      "retep repip dekcip a kcep fo delkcip .sreppep\n"
     ]
    }
   ],
   "source": [
    "# Q. Write a python program to find below output using loop:-\n",
    "# Input:- 'peter piper picked a peck of pickled peppers.'\n",
    "# Output:- 'retep repip dekcip a kcep fo delkcip sreppep'\n",
    "\n",
    "# test_str='peter piper picked a peck of pickled peppers.'\n",
    "# word_list=test_str.split()\n",
    "# word_list = [i[::-1] for i in word_list]\n",
    "# print(''.join(word_list))\n",
    "\n",
    "my_str='peter piper picked a peck of pickled peppers.'\n",
    "out_lst=my_str.split()\n",
    "out_lst = [i[::-1] for i in out_lst]\n",
    "print(' '.join(out_lst))\n",
    "    "
   ]
  },
  {
   "cell_type": "code",
   "execution_count": 28,
   "metadata": {},
   "outputs": [
    {
     "name": "stdout",
     "output_type": "stream",
     "text": [
      "Peter Piper Picked A Peck Of Pickled Peppers.\n"
     ]
    }
   ],
   "source": [
    "# Q. Write a python program to find below output using loop:-\n",
    "# Input:- 'peter piper picked a peck of pickled peppers.'\n",
    "# Output:- 'Peter Piper Picked A Peck Of Pickled Peppers'\n",
    "\n",
    "Input= 'peter piper picked a peck of pickled peppers.'\n",
    "out_lst=my_str.split()\n",
    "out_lst = [i.title() for i in out_lst]\n",
    "print(' '.join(out_lst))\n",
    "\n"
   ]
  },
  {
   "cell_type": "code",
   "execution_count": null,
   "metadata": {},
   "outputs": [],
   "source": [
    "# Q. Write a python program to implement index method using loop. If\n",
    "# sub_str is found in my_str then it will print the index\n",
    "# of first occurrence of first character of matching string in my_str:-\n",
    "# Input:- my_str = 'Peter Piper Picked A Peck Of Pickled Peppers.',\n",
    "# sub_str = 'Pickl'\n",
    "# Output:- 29ss\n",
    "\n",
    "my_str = 'Peter Piper Picked A Peck Of Pickled Peppers.'\n",
    "sub_str = 'Pickl'\n",
    "while len(sub_str)>0:\n",
    "    if sub_str in my_str:\n",
    "        print(my_str.index(sub_str))"
   ]
  },
  {
   "cell_type": "code",
   "execution_count": 17,
   "metadata": {},
   "outputs": [
    {
     "name": "stdout",
     "output_type": "stream",
     "text": [
      "peter piper picked a Pack of pickled peppers.\n"
     ]
    }
   ],
   "source": [
    "# Q. Write a python program to implement replace method using loop. If\n",
    "# sub_str is found in my_str then it will replace the first\n",
    "# occurrence of sub_str with new_str else it will will print sub_str not\n",
    "# found:-\n",
    "# Input:- my_str = 'Peter Piper Picked A Peck Of Pickled Peppers.',\n",
    "# sub_str = 'Peck', new_str = 'Pack'\n",
    "# # Output:- 'Peter Piper Pic`ked A Pack Of Pickled Peppers.'\n",
    "\n",
    "Input= 'peter piper picked a peck of pickled peppers.'\n",
    "sub_str='Peck'\n",
    "new_str='Pack'\n",
    "out_lst=Input.split()\n",
    "# print(out_lst)\n",
    "for sub_str in out_lst:\n",
    "#     res=Input.replace(sub_str,new_str)\n",
    "# res = [sub.replace(sub2[0], sub2[1]) for sub in out_lst\n",
    "#       for sub2 in sub_str if sub2[0] in sub]\n",
    "      res = list(map(lambda st: str.replace(st, \"peck\", \"Pack\"), out_lst))\n",
    "print(' '.join(res))\n",
    "\n"
   ]
  },
  {
   "cell_type": "code",
   "execution_count": 25,
   "metadata": {},
   "outputs": [
    {
     "name": "stdout",
     "output_type": "stream",
     "text": [
      "*******************Peck******************\n"
     ]
    }
   ],
   "source": [
    "# Q. Write a python program to find below output (implements rjust and\n",
    "# ljust) using loop:-\n",
    "# Input:- 'Peter Piper Picked A Peck Of Pickled Peppers.', sub_str =\n",
    "# 'Peck',\n",
    "# Output:- '*********************Peck********************'\n",
    "\n",
    "\n",
    "my_str='Peter Piper Picked A Peck Of Pickled Peppers.'\n",
    "sub_str='Peck'\n",
    "if sub_str in my_str:\n",
    "    print(sub_str.center(41, '*'))"
   ]
  },
  {
   "cell_type": "code",
   "execution_count": 29,
   "metadata": {},
   "outputs": [
    {
     "name": "stdout",
     "output_type": "stream",
     "text": [
      "['This', 'is', 'Python', 'class']\n"
     ]
    }
   ],
   "source": [
    "# Q. Write a python program to find below output using loop:-\n",
    "# Input:- 'This is Python class', sep = ' is',\n",
    "# Output:- ['This', 'is', 'Python class']\n",
    "\n",
    "Input= 'This is Python class'\n",
    "sep = ' is'\n",
    "if sep in Input:\n",
    "    output=Input.split()\n",
    "    print(output)\n"
   ]
  },
  {
   "cell_type": "code",
   "execution_count": null,
   "metadata": {},
   "outputs": [],
   "source": []
  }
 ],
 "metadata": {
  "kernelspec": {
   "display_name": "Python 3",
   "language": "python",
   "name": "python3"
  },
  "language_info": {
   "codemirror_mode": {
    "name": "ipython",
    "version": 3
   },
   "file_extension": ".py",
   "mimetype": "text/x-python",
   "name": "python",
   "nbconvert_exporter": "python",
   "pygments_lexer": "ipython3",
   "version": "3.8.5"
  }
 },
 "nbformat": 4,
 "nbformat_minor": 4
}
