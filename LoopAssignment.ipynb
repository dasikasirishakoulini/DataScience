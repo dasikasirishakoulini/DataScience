{
 "cells": [
  {
   "cell_type": "code",
   "execution_count": 1,
   "metadata": {},
   "outputs": [
    {
     "name": "stdout",
     "output_type": "stream",
     "text": [
      " Please enter the no. frm 1-92\n",
      "TWO\n"
     ]
    }
   ],
   "source": [
    "# W. A P. which takes one number from 0 to 9 from the user and prints\n",
    "# it in the word. And if the word is not from 0 to 9 then\n",
    "# it should print that number is outside of the range and program should\n",
    "# exit.\n",
    "\n",
    "\n",
    "a = int( input(\" Please enter the no. frm 1-9\")) \n",
    "if a==1:\n",
    "    print(\"ONE\")\n",
    "elif a==2:\n",
    "     print(\"TWO\")\n",
    "elif a==3:\n",
    "     print(\"THREE\")\n",
    "elif a==4:\n",
    "     print(\"Four\")\n",
    "elif a==5:\n",
    "     print(\"FIVE\")\n",
    "elif a==6:\n",
    "     print(\"SIX\")\n",
    "elif a==7:\n",
    "     print(\"SEVEN\")\n",
    "elif a==8:\n",
    "     print(\"EIGHT\")\n",
    "elif a==9:\n",
    "     print(\"Nine\")\n",
    "else:\n",
    "    print(\"No. is out of range\")"
   ]
  },
  {
   "cell_type": "code",
   "execution_count": 1,
   "metadata": {},
   "outputs": [
    {
     "name": "stdout",
     "output_type": "stream",
     "text": [
      " Please select any one operation from below:-To add enter 1,to subtract enter 2,To multiply enter 3,To divide enter 4,To divide and find quotient enter ,To divide and find remainder enter 6,To divide and find num1 to the power of num2 enter 7,To Come out of the program enter 82\n",
      "enter number 1:2\n",
      "enter number 2:3\n",
      "difference is: -1\n"
     ]
    }
   ],
   "source": [
    "#  W. A P. to implement calculator but the operation to be done and two\n",
    "# numbers will be taken as input from user:-\n",
    "# Operation console should show below:-\n",
    "#  Please select any one operation from below:-\n",
    "#  * To add enter 1\n",
    "#  * to subtract enter 2\n",
    "#  * To multiply enter 3\n",
    "#  * To divide enter 4\n",
    "#  * To divide and find quotient enter 5\n",
    "#  * To divide and find remainder enter 6\n",
    "#  * To divide and find num1 to the power of num2 enter 7\n",
    "#  * To Come out of the program enter 8\n",
    "\n",
    "a = int( input(\" Please select any one operation from below:-To add enter 1,to subtract enter 2,To multiply enter 3,To divide enter 4,To divide and find quotient enter ,To divide and find remainder enter 6,To divide and find num1 to the power of num2 enter 7,To Come out of the program enter 8\"))\n",
    "               \n",
    "num1=int(input(\"enter number 1:\"))\n",
    "num2=int(input(\"enter number 2:\"))\n",
    "               \n",
    "if a==1:\n",
    "    print('sum is :', num1+num2)\n",
    "elif a==2:\n",
    "     print(\"difference is:\", num1-num2)\n",
    "elif a==3:\n",
    "     print(\" product is:\" ,num1*num2 )\n",
    "elif a==4:\n",
    "     print(\"division is:\", num1/num2)\n",
    "elif a==5:\n",
    "     print(\"quotient is:\", num1//num2)\n",
    "elif a==6:\n",
    "     print(\"reminder is:\", num1%num2)\n",
    "elif a==7:\n",
    "     print(\"power is:\" ,(num1/num2)**num2)\n",
    "elif a==8:\n",
    "     print(\"come out of program\")\n"
   ]
  },
  {
   "cell_type": "code",
   "execution_count": 2,
   "metadata": {},
   "outputs": [
    {
     "name": "stdout",
     "output_type": "stream",
     "text": [
      " Enter the year: 1965\n",
      "1965 is not a leap year\n"
     ]
    }
   ],
   "source": [
    "# W A P to check whether a year entered by user is an leap year or not?\n",
    "# Check with below input:-\n",
    "#  leap year:- 2012, 1968, 2004, 1200, 1600,2400\n",
    "#  Non-lear year:- 1971, 2006, 1700,1800,1900\n",
    "\n",
    "leap_year = int(input(\" Enter the year: \"))\n",
    "\n",
    "if(leap_year%100 == 0):\n",
    "    if(leap_year%400 == 0):\n",
    "        print(f\"{leap_year} is a leap year\")\n",
    "    else:\n",
    "        print(f\"{leap_year} is not a leap year\")\n",
    "elif(leap_year%4==0):\n",
    "    print(f\"{leap_year} is a leap year\")\n",
    "else:\n",
    "    print(f\"{leap_year} is not a leap year\")"
   ]
  },
  {
   "cell_type": "code",
   "execution_count": 3,
   "metadata": {},
   "outputs": [
    {
     "name": "stdout",
     "output_type": "stream",
     "text": [
      "Enter a number: 3\n",
      "Odd\n"
     ]
    }
   ],
   "source": [
    "#  W A P which takes one number from the user and checks whether it is\n",
    "# an even or odd number?, If it even then prints number is\n",
    "# even number else prints that number is odd number.\n",
    "\n",
    "\n",
    "num = int(input('Enter a number: '))\n",
    "if num%2 == 0:\n",
    "    print('Even')\n",
    "else:\n",
    "    print('Odd')"
   ]
  },
  {
   "cell_type": "code",
   "execution_count": 4,
   "metadata": {},
   "outputs": [
    {
     "name": "stdout",
     "output_type": "stream",
     "text": [
      "Enter  number1:2\n",
      "Enter number2:3\n",
      "num1 is less than num2\n"
     ]
    }
   ],
   "source": [
    "# Q. W A P which takes two numbers from the user and prints below output:-\n",
    "#  1. num1 is greater than num2 if num1 is greater than num2\n",
    "#  2. num1 is smaller than num2 if num1 is smaller than num2\n",
    "#  3. num1 is equal to num2 if num1 and num2 are equal\n",
    "# Note:- 1. Do this problem using if - else\n",
    "#  2. Do this using ternary operator\n",
    "\n",
    "num1=int(input('Enter  number1:'))\n",
    "num2=int(input('Enter number2:'))\n",
    "\n",
    "if(num1>num2):\n",
    "      print('num1 is greater than num2')\n",
    "elif(num1<num2):\n",
    "      print('num1 is less than num2')\n",
    "elif(num1==num2):\n",
    "      print('num1 is equal to num2')\n",
    "        \n",
    "        "
   ]
  },
  {
   "cell_type": "code",
   "execution_count": 6,
   "metadata": {},
   "outputs": [
    {
     "name": "stdout",
     "output_type": "stream",
     "text": [
      "Enter  number1:3\n",
      "Enter number2:4\n",
      "Enter number3:5\n",
      "num3 is greater than num1 and num2\n"
     ]
    }
   ],
   "source": [
    "num1=int(input('Enter  number1:'))\n",
    "num2=int(input('Enter number2:'))\n",
    "num3=int(input('Enter number3:'))\n",
    "\n",
    "if(num1>num2 & num1>num3):\n",
    "      print('num1 is greater than num2 and num3')\n",
    "elif(num2<num1 & num2>num3):\n",
    "      print('num2 is greater than num1 and num3')\n",
    "elif(num3>num2 & num3>num1):\n",
    "      print('num3 is greater than num1 and num2')"
   ]
  },
  {
   "cell_type": "code",
   "execution_count": null,
   "metadata": {},
   "outputs": [],
   "source": [
    "# Q. Write a Python program to find the length of the my_str using loop:-\n",
    "# Input:- 'Write a Python program to find the length of the my_str'\n",
    "# Output:- 55\n",
    "\n",
    "# User inputs the string and it gets stored in variable str\n",
    "str = input(\"Enter a string: \")\n",
    "\n",
    "# i variable to count the character in a string\n",
    "i = 0\n",
    "for s in str:\n",
    "      i = i+1\n",
    "print(\"Length of the input string is:\", i)\n"
   ]
  },
  {
   "cell_type": "code",
   "execution_count": 1,
   "metadata": {},
   "outputs": [
    {
     "name": "stdout",
     "output_type": "stream",
     "text": [
      "Count of p in peter piper picked a peck of pickled peppers.\n",
      " is : 9\n"
     ]
    }
   ],
   "source": [
    "# Q. Write a Python program to find the total number of times letter 'p'\n",
    "# is appeared in the below string using loop:-\n",
    "# Input:- 'peter piper picked a peck of pickled peppers.\\n'\n",
    "# Output:- 9\n",
    "test_str = \"peter piper picked a peck of pickled peppers.\\n\"\n",
    "  \n",
    "# using naive method to get count \n",
    "# counting e \n",
    "count = 0\n",
    "  \n",
    "for i in test_str:\n",
    "    if i == 'p':\n",
    "        count = count + 1\n",
    "  \n",
    "# printing result \n",
    "print (\"Count of p in peter piper picked a peck of pickled peppers.\\n is : \"\n",
    "                            +  str(count))\n",
    "    \n"
   ]
  },
  {
   "cell_type": "code",
   "execution_count": null,
   "metadata": {},
   "outputs": [],
   "source": [
    "# Q. Write a python program to find below output using loop:-\n",
    "# Input:- 'peter piper picked a peck of pickled peppers.'\n",
    "# Output:- ['peter', 'piper', 'picked', 'a', 'peck', 'of', 'pickled',\n",
    "# 'peppers']\n",
    "\n",
    "\n",
    "test_str = \"peter piper picked a peck of pickled peppers.\\n\"\n",
    "list=[]\n",
    "while test_str !='0':\n",
    "    print(f'List of Words ={test_str.split()}')\n",
    "\n",
    "    \n"
   ]
  },
  {
   "cell_type": "code",
   "execution_count": null,
   "metadata": {},
   "outputs": [],
   "source": [
    "# Q. Write a python program to find below output using loop:-\n",
    "# Input:- 'peter piper picked a peck of pickled peppers.'\n",
    "# Output:- 'peppers pickled of peck a picked piper peter'\n"
   ]
  },
  {
   "cell_type": "code",
   "execution_count": null,
   "metadata": {},
   "outputs": [],
   "source": [
    "# Q. Write a python program to find below output using loop:-\n",
    "# Input:- 'peter piper picked a peck of pickled peppers.'\n",
    "# Output:- '.sreppep delkcip fo kcep a dekcip repip retep'\n"
   ]
  },
  {
   "cell_type": "code",
   "execution_count": null,
   "metadata": {},
   "outputs": [],
   "source": [
    "# Q. Write a python program to find below output using loop:-\n",
    "# Input:- 'peter piper picked a peck of pickled peppers.'\n",
    "# Output:- 'retep repip dekcip a kcep fo delkcip sreppep'\n"
   ]
  },
  {
   "cell_type": "code",
   "execution_count": null,
   "metadata": {},
   "outputs": [],
   "source": [
    "# Q. Write a python program to find below output using loop:-\n",
    "# Input:- 'peter piper picked a peck of pickled peppers.'\n",
    "# Output:- 'Peter Piper Picked A Peck Of Pickled Peppers'\n"
   ]
  },
  {
   "cell_type": "code",
   "execution_count": null,
   "metadata": {},
   "outputs": [],
   "source": [
    "# Q. Write a python program to implement index method using loop. If\n",
    "# sub_str is found in my_str then it will print the index\n",
    "# of first occurrence of first character of matching string in my_str:-\n",
    "# Input:- my_str = 'Peter Piper Picked A Peck Of Pickled Peppers.',\n",
    "# sub_str = 'Pickl'\n",
    "# Output:- 29\n"
   ]
  },
  {
   "cell_type": "code",
   "execution_count": null,
   "metadata": {},
   "outputs": [],
   "source": [
    "# Q. Write a python program to implement replace method using loop. If\n",
    "# sub_str is found in my_str then it will replace the first\n",
    "# occurrence of sub_str with new_str else it will will print sub_str not\n",
    "# found:-\n",
    "# Input:- my_str = 'Peter Piper Picked A Peck Of Pickled Peppers.',\n",
    "# sub_str = 'Peck', new_str = 'Pack'\n",
    "# # Output:- 'Peter Piper Picked A Pack Of Pickled Peppers.'"
   ]
  },
  {
   "cell_type": "code",
   "execution_count": null,
   "metadata": {},
   "outputs": [],
   "source": [
    "# Q. Write a python program to find below output (implements rjust and\n",
    "# ljust) using loop:-\n",
    "# Input:- 'Peter Piper Picked A Peck Of Pickled Peppers.', sub_str =\n",
    "# 'Peck',\n",
    "# Output:- '*********************Peck********************'\n"
   ]
  },
  {
   "cell_type": "code",
   "execution_count": null,
   "metadata": {},
   "outputs": [],
   "source": [
    "# Q. Write a python program to find below output using loop:-\n",
    "# Input:- 'This is Python class', sep = ' is',\n",
    "# Output:- ['This', 'is', 'Python class']"
   ]
  }
 ],
 "metadata": {
  "kernelspec": {
   "display_name": "Python 3",
   "language": "python",
   "name": "python3"
  },
  "language_info": {
   "codemirror_mode": {
    "name": "ipython",
    "version": 3
   },
   "file_extension": ".py",
   "mimetype": "text/x-python",
   "name": "python",
   "nbconvert_exporter": "python",
   "pygments_lexer": "ipython3",
   "version": "3.8.5"
  }
 },
 "nbformat": 4,
 "nbformat_minor": 4
}
