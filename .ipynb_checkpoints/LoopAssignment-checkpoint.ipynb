{
 "cells": [
  {
   "cell_type": "code",
   "execution_count": 1,
   "metadata": {},
   "outputs": [
    {
     "name": "stdout",
     "output_type": "stream",
     "text": [
      " Please enter the no. frm 1-92\n",
      "TWO\n"
     ]
    }
   ],
   "source": [
    "# W. A P. which takes one number from 0 to 9 from the user and prints\n",
    "# it in the word. And if the word is not from 0 to 9 then\n",
    "# it should print that number is outside of the range and program should\n",
    "# exit.\n",
    "\n",
    "\n",
    "a = int( input(\" Please enter the no. frm 1-9\")) \n",
    "if a==1:\n",
    "    print(\"ONE\")\n",
    "elif a==2:\n",
    "     print(\"TWO\")\n",
    "elif a==3:\n",
    "     print(\"THREE\")\n",
    "elif a==4:\n",
    "     print(\"Four\")\n",
    "elif a==5:\n",
    "     print(\"FIVE\")\n",
    "elif a==6:\n",
    "     print(\"SIX\")\n",
    "elif a==7:\n",
    "     print(\"SEVEN\")\n",
    "elif a==8:\n",
    "     print(\"EIGHT\")\n",
    "elif a==9:\n",
    "     print(\"Nine\")\n",
    "else:\n",
    "    print(\"No. is out of range\")"
   ]
  },
  {
   "cell_type": "code",
   "execution_count": null,
   "metadata": {},
   "outputs": [],
   "source": [
    "#  W. A P. to implement calculator but the operation to be done and two\n",
    "# numbers will be taken as input from user:-\n",
    "# Operation console should show below:-\n",
    "#  Please select any one operation from below:-\n",
    "#  * To add enter 1\n",
    "#  * to subtract enter 2\n",
    "#  * To multiply enter 3\n",
    "#  * To divide enter 4\n",
    "#  * To divide and find quotient enter 5\n",
    "#  * To divide and find remainder enter 6\n",
    "#  * To divide and find num1 to the power of num2 enter 7\n",
    "#  * To Come out of the program enter 8\n",
    "\n",
    "a = int( input(\" Please select any one operation from below:-To add enter 1,to subtract enter 2,To multiply enter 3,To divide enter 4,To divide and find quotient enter ,To divide and find remainder enter 6,To divide and find num1 to the power of num2 enter 7,To Come out of the program enter 8\"))\n",
    "               \n",
    "num1=int(input(\"enter number 1:\"))\n",
    "num2=int(input(\"enter number 2:\"))\n",
    "               \n",
    "if a==1:\n",
    "    print('sum is :', num1+num2)\n",
    "elif a==2:\n",
    "     print(\"difference is:\", num1-num2)\n",
    "elif a==3:\n",
    "     print(\" product is:\" ,num1*num2 )\n",
    "elif a==4:\n",
    "     print(\"division is:\", num1/num2)\n",
    "elif a==5:\n",
    "     print(\"quotient is:\", num1//num2)\n",
    "elif a==6:\n",
    "     print(\"reminder is:\", num1%num2)\n",
    "elif a==7:\n",
    "     print(\"power is:\" ,(num1/num2)**num2)\n",
    "elif a==8:\n",
    "     print(\"come out of program\")\n"
   ]
  },
  {
   "cell_type": "code",
   "execution_count": null,
   "metadata": {},
   "outputs": [],
   "source": []
  },
  {
   "cell_type": "code",
   "execution_count": null,
   "metadata": {},
   "outputs": [],
   "source": []
  }
 ],
 "metadata": {
  "kernelspec": {
   "display_name": "Python 3",
   "language": "python",
   "name": "python3"
  },
  "language_info": {
   "codemirror_mode": {
    "name": "ipython",
    "version": 3
   },
   "file_extension": ".py",
   "mimetype": "text/x-python",
   "name": "python",
   "nbconvert_exporter": "python",
   "pygments_lexer": "ipython3",
   "version": "3.8.5"
  }
 },
 "nbformat": 4,
 "nbformat_minor": 4
}
